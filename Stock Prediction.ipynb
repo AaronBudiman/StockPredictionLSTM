{
 "cells": [
  {
   "attachments": {},
   "cell_type": "markdown",
   "metadata": {},
   "source": [
    "# <Center>Stock Prediction using <b>LSTM</b></center>"
   ]
  },
  {
   "cell_type": "code",
   "execution_count": 130,
   "metadata": {},
   "outputs": [],
   "source": [
    "# Important Libraries\n",
    "import math\n",
    "import numpy as np\n",
    "import pandas as pd\n",
    "from datetime import date\n",
    "\n",
    "# Machine Learning\n",
    "from sklearn.preprocessing import MinMaxScaler\n",
    "from sklearn.model_selection import train_test_split\n",
    "from keras.models import Sequential\n",
    "from keras.layers import Dense, LSTM\n",
    "\n",
    "# Visualization\n",
    "import matplotlib.pyplot as plt\n",
    "\n",
    "# Stock Data\n",
    "import yfinance as yf\n",
    "import locale"
   ]
  },
  {
   "attachments": {},
   "cell_type": "markdown",
   "metadata": {},
   "source": [
    "## Load Dataset"
   ]
  },
  {
   "attachments": {},
   "cell_type": "markdown",
   "metadata": {},
   "source": [
    "Load all stock from Indonesia Stock Exchange"
   ]
  },
  {
   "cell_type": "code",
   "execution_count": 194,
   "metadata": {},
   "outputs": [
    {
     "data": {
      "text/html": [
       "<div>\n",
       "<style scoped>\n",
       "    .dataframe tbody tr th:only-of-type {\n",
       "        vertical-align: middle;\n",
       "    }\n",
       "\n",
       "    .dataframe tbody tr th {\n",
       "        vertical-align: top;\n",
       "    }\n",
       "\n",
       "    .dataframe thead th {\n",
       "        text-align: right;\n",
       "    }\n",
       "</style>\n",
       "<table border=\"1\" class=\"dataframe\">\n",
       "  <thead>\n",
       "    <tr style=\"text-align: right;\">\n",
       "      <th></th>\n",
       "      <th>Code</th>\n",
       "      <th>Company Name</th>\n",
       "      <th>Listing Date</th>\n",
       "      <th>Shares</th>\n",
       "      <th>Listing Board</th>\n",
       "    </tr>\n",
       "  </thead>\n",
       "  <tbody>\n",
       "    <tr>\n",
       "      <th>0</th>\n",
       "      <td>PACK</td>\n",
       "      <td>Solusi Kemasan Digital Tbk.</td>\n",
       "      <td>08 Feb 2023</td>\n",
       "      <td>1,537,546,000</td>\n",
       "      <td>Acceleration</td>\n",
       "    </tr>\n",
       "    <tr>\n",
       "      <th>1</th>\n",
       "      <td>VAST</td>\n",
       "      <td>Vastland Indonesia Tbk.</td>\n",
       "      <td>08 Feb 2023</td>\n",
       "      <td>3,055,700,000</td>\n",
       "      <td>Development</td>\n",
       "    </tr>\n",
       "    <tr>\n",
       "      <th>2</th>\n",
       "      <td>CHIP</td>\n",
       "      <td>Pelita Teknologi Global Tbk.</td>\n",
       "      <td>08 Feb 2023</td>\n",
       "      <td>806,000,000</td>\n",
       "      <td>Acceleration</td>\n",
       "    </tr>\n",
       "    <tr>\n",
       "      <th>3</th>\n",
       "      <td>HALO</td>\n",
       "      <td>Haloni Jane Tbk.</td>\n",
       "      <td>08 Feb 2023</td>\n",
       "      <td>5,650,000,000</td>\n",
       "      <td>Development</td>\n",
       "    </tr>\n",
       "    <tr>\n",
       "      <th>4</th>\n",
       "      <td>AALI</td>\n",
       "      <td>Astra Agro Lestari Tbk.</td>\n",
       "      <td>09 Dec 1997</td>\n",
       "      <td>1,924,688,333</td>\n",
       "      <td>Main</td>\n",
       "    </tr>\n",
       "  </tbody>\n",
       "</table>\n",
       "</div>"
      ],
      "text/plain": [
       "   Code                  Company Name Listing Date         Shares  \\\n",
       "0  PACK   Solusi Kemasan Digital Tbk.  08 Feb 2023  1,537,546,000   \n",
       "1  VAST       Vastland Indonesia Tbk.  08 Feb 2023  3,055,700,000   \n",
       "2  CHIP  Pelita Teknologi Global Tbk.  08 Feb 2023    806,000,000   \n",
       "3  HALO              Haloni Jane Tbk.  08 Feb 2023  5,650,000,000   \n",
       "4  AALI       Astra Agro Lestari Tbk.  09 Dec 1997  1,924,688,333   \n",
       "\n",
       "  Listing Board  \n",
       "0  Acceleration  \n",
       "1   Development  \n",
       "2  Acceleration  \n",
       "3   Development  \n",
       "4          Main  "
      ]
     },
     "execution_count": 194,
     "metadata": {},
     "output_type": "execute_result"
    }
   ],
   "source": [
    "# Load All Stock Ticker Code\n",
    "df_ticker = pd.read_excel(\"Stock List.xlsx\")\n",
    "df_ticker.head()"
   ]
  },
  {
   "cell_type": "code",
   "execution_count": 195,
   "metadata": {},
   "outputs": [
    {
     "name": "stdout",
     "output_type": "stream",
     "text": [
      "<class 'pandas.core.frame.DataFrame'>\n",
      "RangeIndex: 842 entries, 0 to 841\n",
      "Data columns (total 5 columns):\n",
      " #   Column         Non-Null Count  Dtype \n",
      "---  ------         --------------  ----- \n",
      " 0   Code           842 non-null    object\n",
      " 1   Company Name   842 non-null    object\n",
      " 2   Listing Date   842 non-null    object\n",
      " 3   Shares         842 non-null    object\n",
      " 4   Listing Board  842 non-null    object\n",
      "dtypes: object(5)\n",
      "memory usage: 33.0+ KB\n"
     ]
    }
   ],
   "source": [
    "# Check the Dataframe type\n",
    "df_ticker.info()"
   ]
  },
  {
   "attachments": {},
   "cell_type": "markdown",
   "metadata": {},
   "source": [
    "convert the `Listing Date` to datetime Dtype"
   ]
  },
  {
   "cell_type": "code",
   "execution_count": 196,
   "metadata": {},
   "outputs": [],
   "source": [
    "# Change the 'Agt' to 'Aug', since the datetime don't recognize 'Agt'\n",
    "df_ticker['Listing Date'] = df_ticker['Listing Date'].str.replace('Agt','Aug')\n",
    "# Change df_ticker['Listing Date'] to datetime\n",
    "df_ticker['Listing Date'] = pd.to_datetime(df_ticker['Listing Date'])"
   ]
  },
  {
   "cell_type": "code",
   "execution_count": 197,
   "metadata": {},
   "outputs": [
    {
     "name": "stdout",
     "output_type": "stream",
     "text": [
      "<class 'pandas.core.frame.DataFrame'>\n",
      "RangeIndex: 842 entries, 0 to 841\n",
      "Data columns (total 5 columns):\n",
      " #   Column         Non-Null Count  Dtype         \n",
      "---  ------         --------------  -----         \n",
      " 0   Code           842 non-null    object        \n",
      " 1   Company Name   842 non-null    object        \n",
      " 2   Listing Date   842 non-null    datetime64[ns]\n",
      " 3   Shares         842 non-null    object        \n",
      " 4   Listing Board  842 non-null    object        \n",
      "dtypes: datetime64[ns](1), object(4)\n",
      "memory usage: 33.0+ KB\n"
     ]
    }
   ],
   "source": [
    "# Check the Dataframe type again\n",
    "df_ticker.info()"
   ]
  },
  {
   "attachments": {},
   "cell_type": "markdown",
   "metadata": {},
   "source": [
    "removing the suspend or used to suspended stock from list, since a suspended stock usually have a serious concern about the company's financial information. We will remove the stock from our list and won't bring them back again unless the company financial situation become better."
   ]
  },
  {
   "cell_type": "code",
   "execution_count": 198,
   "metadata": {},
   "outputs": [],
   "source": [
    "# suspended or delisting stock\n",
    "suspend = ['BAPI','BTEL','CSMI','DPUM','GAMA','HDTX','KPAS','LCGP','MAGP','MINA','MIRA','RONY','NIPS','PLAS','SCPI','SUGI','TRIL','RICY','TRIO']\n",
    "# remove the suspended stock\n",
    "df_ticker = df_ticker[~df_ticker['Code'].isin(suspend)]"
   ]
  },
  {
   "cell_type": "code",
   "execution_count": 199,
   "metadata": {},
   "outputs": [
    {
     "name": "stdout",
     "output_type": "stream",
     "text": [
      "WARNING: No decryption keys could be extracted from JS file. Falling back to backup decrypt methods.\n",
      "WARNING: No decryption keys could be extracted from JS file. Falling back to backup decrypt methods.\n",
      "WARNING: No decryption keys could be extracted from JS file. Falling back to backup decrypt methods.\n",
      "WARNING: No decryption keys could be extracted from JS file. Falling back to backup decrypt methods.\n",
      "WARNING: No decryption keys could be extracted from JS file. Falling back to backup decrypt methods.\n",
      "WARNING: No decryption keys could be extracted from JS file. Falling back to backup decrypt methods.\n"
     ]
    }
   ],
   "source": [
    "locale.setlocale( locale.LC_ALL, 'id_ID' )\n",
    "# to filter the stock, find the stock with listing date more than 1 Year\n",
    "timestamp = pd.to_datetime('01 Jan 2022', format='%d %b %Y')\n",
    "\n",
    "# make empty list for the data\n",
    "stock_code = []\n",
    "stock_mrkt_cap = []\n",
    "\n",
    "# looping through the list to append to the empty list\n",
    "for i in range(len(df_ticker)):\n",
    "    if df_ticker['Listing Date'].iloc[i] < timestamp:\n",
    "        stock_ticker = df_ticker['Code'].iloc[i]+\".JK\"\n",
    "        stock_info = yf.Ticker(stock_ticker).fast_info\n",
    "        mrkt_cap = stock_info.get('marketCap')\n",
    "        stock_code.append(df_ticker['Code'].iloc[i])\n",
    "        stock_mrkt_cap.append(mrkt_cap)\n",
    "        \n",
    "# make dataframe from lists\n",
    "df_mrkt_cap = pd.DataFrame(\n",
    "    {'Stock Ticker' : stock_code,\n",
    "     'Market Cap' : stock_mrkt_cap}\n",
    ")"
   ]
  },
  {
   "cell_type": "code",
   "execution_count": 204,
   "metadata": {},
   "outputs": [
    {
     "name": "stdout",
     "output_type": "stream",
     "text": [
      "Top 100 Indonesian Stock with Most Market Cap\n"
     ]
    },
    {
     "data": {
      "text/html": [
       "<div>\n",
       "<style scoped>\n",
       "    .dataframe tbody tr th:only-of-type {\n",
       "        vertical-align: middle;\n",
       "    }\n",
       "\n",
       "    .dataframe tbody tr th {\n",
       "        vertical-align: top;\n",
       "    }\n",
       "\n",
       "    .dataframe thead th {\n",
       "        text-align: right;\n",
       "    }\n",
       "</style>\n",
       "<table border=\"1\" class=\"dataframe\">\n",
       "  <thead>\n",
       "    <tr style=\"text-align: right;\">\n",
       "      <th></th>\n",
       "      <th>Stock Ticker</th>\n",
       "      <th>Market Cap</th>\n",
       "    </tr>\n",
       "  </thead>\n",
       "  <tbody>\n",
       "    <tr>\n",
       "      <th>0</th>\n",
       "      <td>BBCA</td>\n",
       "      <td>1.081738e+15</td>\n",
       "    </tr>\n",
       "    <tr>\n",
       "      <th>1</th>\n",
       "      <td>BBRI</td>\n",
       "      <td>7.281622e+14</td>\n",
       "    </tr>\n",
       "    <tr>\n",
       "      <th>2</th>\n",
       "      <td>BYAN</td>\n",
       "      <td>6.241660e+14</td>\n",
       "    </tr>\n",
       "    <tr>\n",
       "      <th>3</th>\n",
       "      <td>BMRI</td>\n",
       "      <td>4.748337e+14</td>\n",
       "    </tr>\n",
       "    <tr>\n",
       "      <th>4</th>\n",
       "      <td>TLKM</td>\n",
       "      <td>3.704926e+14</td>\n",
       "    </tr>\n",
       "    <tr>\n",
       "      <th>...</th>\n",
       "      <td>...</td>\n",
       "      <td>...</td>\n",
       "    </tr>\n",
       "    <tr>\n",
       "      <th>95</th>\n",
       "      <td>FASW</td>\n",
       "      <td>1.480539e+13</td>\n",
       "    </tr>\n",
       "    <tr>\n",
       "      <th>96</th>\n",
       "      <td>SSMS</td>\n",
       "      <td>1.476375e+13</td>\n",
       "    </tr>\n",
       "    <tr>\n",
       "      <th>97</th>\n",
       "      <td>SMAR</td>\n",
       "      <td>1.471997e+13</td>\n",
       "    </tr>\n",
       "    <tr>\n",
       "      <th>98</th>\n",
       "      <td>CITA</td>\n",
       "      <td>1.465333e+13</td>\n",
       "    </tr>\n",
       "    <tr>\n",
       "      <th>99</th>\n",
       "      <td>BJBR</td>\n",
       "      <td>1.457214e+13</td>\n",
       "    </tr>\n",
       "  </tbody>\n",
       "</table>\n",
       "<p>100 rows × 2 columns</p>\n",
       "</div>"
      ],
      "text/plain": [
       "   Stock Ticker    Market Cap\n",
       "0          BBCA  1.081738e+15\n",
       "1          BBRI  7.281622e+14\n",
       "2          BYAN  6.241660e+14\n",
       "3          BMRI  4.748337e+14\n",
       "4          TLKM  3.704926e+14\n",
       "..          ...           ...\n",
       "95         FASW  1.480539e+13\n",
       "96         SSMS  1.476375e+13\n",
       "97         SMAR  1.471997e+13\n",
       "98         CITA  1.465333e+13\n",
       "99         BJBR  1.457214e+13\n",
       "\n",
       "[100 rows x 2 columns]"
      ]
     },
     "execution_count": 204,
     "metadata": {},
     "output_type": "execute_result"
    }
   ],
   "source": [
    "# sort by marketcap\n",
    "df_mrkt_cap = df_mrkt_cap.sort_values(by='Market Cap',ascending=False).reset_index().drop(columns='index')\n",
    "print('Top 100 Indonesian Stock with Most Market Cap')\n",
    "df_mrkt_cap.head(100)"
   ]
  },
  {
   "attachments": {},
   "cell_type": "markdown",
   "metadata": {},
   "source": [
    "## Calculate the stock volatility each year\n",
    "\n",
    "what is stock volatility? Volatility is a statistical measure of the dispersion of returns for a given security or market index. In most cases, the higher the volatility, the riskier the security, vice versa. based on [Forbes](https://stackoverflow.com/questions/25692293/inserting-a-link-to-a-webpage-in-an-ipython-notebook), good volatility is 15%. But what does 15% Volatility mean? it means the stock can gain or loss 15% in value. So lets calculate the top 100 stock volatility."
   ]
  },
  {
   "attachments": {},
   "cell_type": "markdown",
   "metadata": {},
   "source": [
    "## Load the Price History"
   ]
  },
  {
   "cell_type": "code",
   "execution_count": 3,
   "metadata": {},
   "outputs": [],
   "source": [
    "# enter the stock ticker kode\n",
    "stock = \"BBCA\"\n",
    "stock_ticker = stock+\".JK\"\n",
    "stock_interval = '1wk'"
   ]
  },
  {
   "cell_type": "code",
   "execution_count": 197,
   "metadata": {},
   "outputs": [
    {
     "name": "stdout",
     "output_type": "stream",
     "text": [
      "[*********************100%***********************]  1 of 1 completed\n"
     ]
    },
    {
     "data": {
      "text/html": [
       "<div>\n",
       "<style scoped>\n",
       "    .dataframe tbody tr th:only-of-type {\n",
       "        vertical-align: middle;\n",
       "    }\n",
       "\n",
       "    .dataframe tbody tr th {\n",
       "        vertical-align: top;\n",
       "    }\n",
       "\n",
       "    .dataframe thead th {\n",
       "        text-align: right;\n",
       "    }\n",
       "</style>\n",
       "<table border=\"1\" class=\"dataframe\">\n",
       "  <thead>\n",
       "    <tr style=\"text-align: right;\">\n",
       "      <th></th>\n",
       "      <th>Open</th>\n",
       "      <th>High</th>\n",
       "      <th>Low</th>\n",
       "      <th>Close</th>\n",
       "      <th>Adj Close</th>\n",
       "      <th>Volume</th>\n",
       "    </tr>\n",
       "    <tr>\n",
       "      <th>Date</th>\n",
       "      <th></th>\n",
       "      <th></th>\n",
       "      <th></th>\n",
       "      <th></th>\n",
       "      <th></th>\n",
       "      <th></th>\n",
       "    </tr>\n",
       "  </thead>\n",
       "  <tbody>\n",
       "    <tr>\n",
       "      <th>2004-06-07</th>\n",
       "      <td>175.0</td>\n",
       "      <td>182.5</td>\n",
       "      <td>175.0</td>\n",
       "      <td>180.0</td>\n",
       "      <td>109.807243</td>\n",
       "      <td>1094860000</td>\n",
       "    </tr>\n",
       "    <tr>\n",
       "      <th>2004-06-14</th>\n",
       "      <td>180.0</td>\n",
       "      <td>182.5</td>\n",
       "      <td>175.0</td>\n",
       "      <td>177.5</td>\n",
       "      <td>108.282158</td>\n",
       "      <td>1173840000</td>\n",
       "    </tr>\n",
       "    <tr>\n",
       "      <th>2004-06-21</th>\n",
       "      <td>177.5</td>\n",
       "      <td>182.5</td>\n",
       "      <td>175.0</td>\n",
       "      <td>182.5</td>\n",
       "      <td>111.332336</td>\n",
       "      <td>1203550000</td>\n",
       "    </tr>\n",
       "    <tr>\n",
       "      <th>2004-06-28</th>\n",
       "      <td>182.5</td>\n",
       "      <td>187.5</td>\n",
       "      <td>175.0</td>\n",
       "      <td>180.0</td>\n",
       "      <td>109.807243</td>\n",
       "      <td>1369070000</td>\n",
       "    </tr>\n",
       "    <tr>\n",
       "      <th>2004-07-05</th>\n",
       "      <td>180.0</td>\n",
       "      <td>190.0</td>\n",
       "      <td>180.0</td>\n",
       "      <td>190.0</td>\n",
       "      <td>131.713242</td>\n",
       "      <td>1875060000</td>\n",
       "    </tr>\n",
       "    <tr>\n",
       "      <th>...</th>\n",
       "      <td>...</td>\n",
       "      <td>...</td>\n",
       "      <td>...</td>\n",
       "      <td>...</td>\n",
       "      <td>...</td>\n",
       "      <td>...</td>\n",
       "    </tr>\n",
       "    <tr>\n",
       "      <th>2023-01-16</th>\n",
       "      <td>8050.0</td>\n",
       "      <td>8375.0</td>\n",
       "      <td>8050.0</td>\n",
       "      <td>8300.0</td>\n",
       "      <td>8300.000000</td>\n",
       "      <td>454472500</td>\n",
       "    </tr>\n",
       "    <tr>\n",
       "      <th>2023-01-23</th>\n",
       "      <td>8300.0</td>\n",
       "      <td>8850.0</td>\n",
       "      <td>8200.0</td>\n",
       "      <td>8700.0</td>\n",
       "      <td>8700.000000</td>\n",
       "      <td>382986000</td>\n",
       "    </tr>\n",
       "    <tr>\n",
       "      <th>2023-01-30</th>\n",
       "      <td>8725.0</td>\n",
       "      <td>8775.0</td>\n",
       "      <td>8400.0</td>\n",
       "      <td>8700.0</td>\n",
       "      <td>8700.000000</td>\n",
       "      <td>517355700</td>\n",
       "    </tr>\n",
       "    <tr>\n",
       "      <th>2023-02-06</th>\n",
       "      <td>8750.0</td>\n",
       "      <td>8900.0</td>\n",
       "      <td>8650.0</td>\n",
       "      <td>8825.0</td>\n",
       "      <td>8825.000000</td>\n",
       "      <td>422710500</td>\n",
       "    </tr>\n",
       "    <tr>\n",
       "      <th>2023-02-13</th>\n",
       "      <td>8875.0</td>\n",
       "      <td>8900.0</td>\n",
       "      <td>8775.0</td>\n",
       "      <td>8875.0</td>\n",
       "      <td>8875.000000</td>\n",
       "      <td>63775000</td>\n",
       "    </tr>\n",
       "  </tbody>\n",
       "</table>\n",
       "<p>976 rows × 6 columns</p>\n",
       "</div>"
      ],
      "text/plain": [
       "              Open    High     Low   Close    Adj Close      Volume\n",
       "Date                                                               \n",
       "2004-06-07   175.0   182.5   175.0   180.0   109.807243  1094860000\n",
       "2004-06-14   180.0   182.5   175.0   177.5   108.282158  1173840000\n",
       "2004-06-21   177.5   182.5   175.0   182.5   111.332336  1203550000\n",
       "2004-06-28   182.5   187.5   175.0   180.0   109.807243  1369070000\n",
       "2004-07-05   180.0   190.0   180.0   190.0   131.713242  1875060000\n",
       "...            ...     ...     ...     ...          ...         ...\n",
       "2023-01-16  8050.0  8375.0  8050.0  8300.0  8300.000000   454472500\n",
       "2023-01-23  8300.0  8850.0  8200.0  8700.0  8700.000000   382986000\n",
       "2023-01-30  8725.0  8775.0  8400.0  8700.0  8700.000000   517355700\n",
       "2023-02-06  8750.0  8900.0  8650.0  8825.0  8825.000000   422710500\n",
       "2023-02-13  8875.0  8900.0  8775.0  8875.0  8875.000000    63775000\n",
       "\n",
       "[976 rows x 6 columns]"
      ]
     },
     "execution_count": 197,
     "metadata": {},
     "output_type": "execute_result"
    }
   ],
   "source": [
    "# Get the Stock Price History\n",
    "today = date.today()\n",
    "df = yf.download(stock_ticker, start='2000-01-01', end=today, interval=stock_interval)\n",
    "df"
   ]
  },
  {
   "cell_type": "code",
   "execution_count": 180,
   "metadata": {},
   "outputs": [
    {
     "data": {
      "text/plain": [
       "(479, 6)"
      ]
     },
     "execution_count": 180,
     "metadata": {},
     "output_type": "execute_result"
    }
   ],
   "source": [
    "df.shape"
   ]
  },
  {
   "cell_type": "code",
   "execution_count": 181,
   "metadata": {},
   "outputs": [
    {
     "data": {
      "text/html": [
       "<div>\n",
       "<style scoped>\n",
       "    .dataframe tbody tr th:only-of-type {\n",
       "        vertical-align: middle;\n",
       "    }\n",
       "\n",
       "    .dataframe tbody tr th {\n",
       "        vertical-align: top;\n",
       "    }\n",
       "\n",
       "    .dataframe thead th {\n",
       "        text-align: right;\n",
       "    }\n",
       "</style>\n",
       "<table border=\"1\" class=\"dataframe\">\n",
       "  <thead>\n",
       "    <tr style=\"text-align: right;\">\n",
       "      <th></th>\n",
       "      <th>Close</th>\n",
       "    </tr>\n",
       "  </thead>\n",
       "  <tbody>\n",
       "    <tr>\n",
       "      <th>count</th>\n",
       "      <td>479.000000</td>\n",
       "    </tr>\n",
       "    <tr>\n",
       "      <th>mean</th>\n",
       "      <td>493.194124</td>\n",
       "    </tr>\n",
       "    <tr>\n",
       "      <th>std</th>\n",
       "      <td>230.986090</td>\n",
       "    </tr>\n",
       "    <tr>\n",
       "      <th>min</th>\n",
       "      <td>225.280212</td>\n",
       "    </tr>\n",
       "    <tr>\n",
       "      <th>25%</th>\n",
       "      <td>275.397614</td>\n",
       "    </tr>\n",
       "    <tr>\n",
       "      <th>50%</th>\n",
       "      <td>411.855896</td>\n",
       "    </tr>\n",
       "    <tr>\n",
       "      <th>75%</th>\n",
       "      <td>717.500000</td>\n",
       "    </tr>\n",
       "    <tr>\n",
       "      <th>max</th>\n",
       "      <td>1040.000000</td>\n",
       "    </tr>\n",
       "  </tbody>\n",
       "</table>\n",
       "</div>"
      ],
      "text/plain": [
       "             Close\n",
       "count   479.000000\n",
       "mean    493.194124\n",
       "std     230.986090\n",
       "min     225.280212\n",
       "25%     275.397614\n",
       "50%     411.855896\n",
       "75%     717.500000\n",
       "max    1040.000000"
      ]
     },
     "execution_count": 181,
     "metadata": {},
     "output_type": "execute_result"
    }
   ],
   "source": [
    "df[['Close']].describe()"
   ]
  },
  {
   "cell_type": "code",
   "execution_count": 182,
   "metadata": {},
   "outputs": [],
   "source": [
    "# Remove the outlier/error in the dataset, since the sido stock never reach 94.500\n",
    "# df['Close'][df['Close'] == df['Close'].max()]=945"
   ]
  },
  {
   "attachments": {},
   "cell_type": "markdown",
   "metadata": {},
   "source": [
    "## Visualize the Stock Price History"
   ]
  },
  {
   "cell_type": "code",
   "execution_count": 183,
   "metadata": {},
   "outputs": [
    {
     "data": {
      "image/png": "[encoded data removed]",
      "text/plain": [
       "<Figure size 1152x576 with 1 Axes>"
      ]
     },
     "metadata": {
      "needs_background": "light"
     },
     "output_type": "display_data"
    }
   ],
   "source": [
    "plt.figure(figsize=(16,8))\n",
    "plt.title('BBCA Close Price History')\n",
    "plt.plot(df['Close'])\n",
    "plt.xlabel('Date',fontsize=18)\n",
    "plt.ylabel('Close Price in IDR',fontsize=18)\n",
    "plt.show()"
   ]
  },
  {
   "attachments": {},
   "cell_type": "markdown",
   "metadata": {},
   "source": [
    "## Data Preprocessing"
   ]
  },
  {
   "cell_type": "code",
   "execution_count": 184,
   "metadata": {},
   "outputs": [
    {
     "data": {
      "text/plain": [
       "384"
      ]
     },
     "execution_count": 184,
     "metadata": {},
     "output_type": "execute_result"
    }
   ],
   "source": [
    "# New Dataframe Close Only\n",
    "data = df.filter(['Close'])\n",
    "# Convert to Numpy Array\n",
    "dataset = data.values\n",
    "# Number of rows will be used to train the model\n",
    "training_data_len = math.ceil(len(dataset)*0.8)\n",
    "training_data_len"
   ]
  },
  {
   "cell_type": "code",
   "execution_count": 185,
   "metadata": {},
   "outputs": [],
   "source": [
    "# Scale the Data\n",
    "scaler = MinMaxScaler(feature_range=(0,1))\n",
    "scaled_data = scaler.fit_transform(dataset)"
   ]
  },
  {
   "cell_type": "code",
   "execution_count": 186,
   "metadata": {},
   "outputs": [],
   "source": [
    "# Create the training dataset from 0 to 1818\n",
    "train_data = scaled_data[ :training_data_len, : ]\n",
    "\n",
    "# split the data to x_train and y_train\n",
    "x_train = []\n",
    "y_train = []\n",
    "\n",
    "# Create a 60-days window of historical prices (i-60) as our feature data \n",
    "# (x_train) and the following 60-days window as label data (y_train).\n",
    "for i in range(12, len(train_data)):\n",
    "    x_train.append(train_data[i-12:i, 0])\n",
    "    y_train.append(train_data[i, 0])\n",
    "    \n",
    "# Reshape the x_train and y_train to numpy as tensorflow only accept numpy\n",
    "x_train, y_train = np.array(x_train), np.array(y_train)\n",
    "x_train = np.reshape(x_train, (x_train.shape[0], x_train.shape[1], 1))"
   ]
  },
  {
   "attachments": {},
   "cell_type": "markdown",
   "metadata": {},
   "source": [
    "## Setting the LSTM Network Architecture"
   ]
  },
  {
   "cell_type": "code",
   "execution_count": 187,
   "metadata": {},
   "outputs": [
    {
     "name": "stdout",
     "output_type": "stream",
     "text": [
      "Model: \"sequential_9\"\n",
      "_________________________________________________________________\n",
      " Layer (type)                Output Shape              Param #   \n",
      "=================================================================\n",
      " lstm_18 (LSTM)              (None, 12, 100)           40800     \n",
      "                                                                 \n",
      " lstm_19 (LSTM)              (None, 50)                30200     \n",
      "                                                                 \n",
      " dense_18 (Dense)            (None, 25)                1275      \n",
      "                                                                 \n",
      " dense_19 (Dense)            (None, 1)                 26        \n",
      "                                                                 \n",
      "=================================================================\n",
      "Total params: 72,301\n",
      "Trainable params: 72,301\n",
      "Non-trainable params: 0\n",
      "_________________________________________________________________\n"
     ]
    }
   ],
   "source": [
    "# Build the Model\n",
    "model = Sequential()\n",
    "model.add(LSTM(100, return_sequences=True, input_shape=(x_train.shape[1], 1)))\n",
    "model.add(LSTM(50, return_sequences=False))\n",
    "model.add(Dense(25))\n",
    "model.add(Dense(1))\n",
    "model.summary()"
   ]
  },
  {
   "cell_type": "code",
   "execution_count": 188,
   "metadata": {},
   "outputs": [],
   "source": [
    "# Compile the Model\n",
    "model.compile(optimizer='adam', loss='mean_squared_error')"
   ]
  },
  {
   "cell_type": "code",
   "execution_count": 189,
   "metadata": {},
   "outputs": [
    {
     "name": "stdout",
     "output_type": "stream",
     "text": [
      "Epoch 1/100\n",
      "372/372 [==============================] - 3s 4ms/step - loss: 0.0032\n",
      "Epoch 2/100\n",
      "372/372 [==============================] - 2s 5ms/step - loss: 0.0019\n",
      "Epoch 3/100\n",
      "372/372 [==============================] - 2s 4ms/step - loss: 0.0016\n",
      "Epoch 4/100\n",
      "372/372 [==============================] - 1s 4ms/step - loss: 0.0016\n",
      "Epoch 5/100\n",
      "372/372 [==============================] - 1s 4ms/step - loss: 0.0012\n",
      "Epoch 6/100\n",
      "372/372 [==============================] - 1s 4ms/step - loss: 0.0010\n",
      "Epoch 7/100\n",
      "372/372 [==============================] - 1s 4ms/step - loss: 8.9264e-04\n",
      "Epoch 8/100\n",
      "372/372 [==============================] - 1s 4ms/step - loss: 8.7796e-04\n",
      "Epoch 9/100\n",
      "372/372 [==============================] - 1s 4ms/step - loss: 0.0011\n",
      "Epoch 10/100\n",
      "372/372 [==============================] - 1s 4ms/step - loss: 8.7374e-04\n",
      "Epoch 11/100\n",
      "372/372 [==============================] - 1s 4ms/step - loss: 7.5364e-04\n",
      "Epoch 12/100\n",
      "372/372 [==============================] - 1s 4ms/step - loss: 9.0589e-04\n",
      "Epoch 13/100\n",
      "372/372 [==============================] - 1s 4ms/step - loss: 6.9446e-04\n",
      "Epoch 14/100\n",
      "372/372 [==============================] - 1s 4ms/step - loss: 8.7327e-04\n",
      "Epoch 15/100\n",
      "372/372 [==============================] - 1s 4ms/step - loss: 7.5785e-04\n",
      "Epoch 16/100\n",
      "372/372 [==============================] - 1s 4ms/step - loss: 7.0206e-04\n",
      "Epoch 17/100\n",
      "372/372 [==============================] - 1s 4ms/step - loss: 7.6883e-04\n",
      "Epoch 18/100\n",
      "372/372 [==============================] - 1s 4ms/step - loss: 6.6322e-04\n",
      "Epoch 19/100\n",
      "372/372 [==============================] - 1s 4ms/step - loss: 8.9213e-04\n",
      "Epoch 20/100\n",
      "372/372 [==============================] - 1s 4ms/step - loss: 9.4633e-04\n",
      "Epoch 21/100\n",
      "372/372 [==============================] - 1s 4ms/step - loss: 8.5734e-04\n",
      "Epoch 22/100\n",
      "372/372 [==============================] - 1s 4ms/step - loss: 7.1970e-04\n",
      "Epoch 23/100\n",
      "372/372 [==============================] - 1s 4ms/step - loss: 7.6555e-04\n",
      "Epoch 24/100\n",
      "372/372 [==============================] - 1s 4ms/step - loss: 6.7629e-04\n",
      "Epoch 25/100\n",
      "372/372 [==============================] - 1s 4ms/step - loss: 7.6375e-04\n",
      "Epoch 26/100\n",
      "372/372 [==============================] - 1s 4ms/step - loss: 8.0103e-04\n",
      "Epoch 27/100\n",
      "372/372 [==============================] - 1s 4ms/step - loss: 6.8686e-04\n",
      "Epoch 28/100\n",
      "372/372 [==============================] - 1s 4ms/step - loss: 8.4297e-04\n",
      "Epoch 29/100\n",
      "372/372 [==============================] - 1s 4ms/step - loss: 7.4485e-04\n",
      "Epoch 30/100\n",
      "372/372 [==============================] - 1s 4ms/step - loss: 6.3657e-04\n",
      "Epoch 31/100\n",
      "372/372 [==============================] - 1s 4ms/step - loss: 6.6838e-04\n",
      "Epoch 32/100\n",
      "372/372 [==============================] - 1s 4ms/step - loss: 6.5600e-04\n",
      "Epoch 33/100\n",
      "372/372 [==============================] - 1s 4ms/step - loss: 7.6593e-04\n",
      "Epoch 34/100\n",
      "372/372 [==============================] - 1s 4ms/step - loss: 6.8372e-04\n",
      "Epoch 35/100\n",
      "372/372 [==============================] - 1s 4ms/step - loss: 6.8184e-04\n",
      "Epoch 36/100\n",
      "372/372 [==============================] - 1s 4ms/step - loss: 6.6339e-04\n",
      "Epoch 37/100\n",
      "372/372 [==============================] - 1s 4ms/step - loss: 6.0952e-04\n",
      "Epoch 38/100\n",
      "372/372 [==============================] - 1s 4ms/step - loss: 9.0460e-04\n",
      "Epoch 39/100\n",
      "372/372 [==============================] - 1s 4ms/step - loss: 6.6932e-04\n",
      "Epoch 40/100\n",
      "372/372 [==============================] - 1s 4ms/step - loss: 6.2319e-04\n",
      "Epoch 41/100\n",
      "372/372 [==============================] - 1s 4ms/step - loss: 7.0204e-04\n",
      "Epoch 42/100\n",
      "372/372 [==============================] - 1s 4ms/step - loss: 6.4358e-04\n",
      "Epoch 43/100\n",
      "372/372 [==============================] - 1s 4ms/step - loss: 6.5045e-04\n",
      "Epoch 44/100\n",
      "372/372 [==============================] - 1s 4ms/step - loss: 6.8458e-04\n",
      "Epoch 45/100\n",
      "372/372 [==============================] - 1s 4ms/step - loss: 6.5327e-04\n",
      "Epoch 46/100\n",
      "372/372 [==============================] - 1s 4ms/step - loss: 6.6692e-04\n",
      "Epoch 47/100\n",
      "372/372 [==============================] - 1s 4ms/step - loss: 5.8825e-04\n",
      "Epoch 48/100\n",
      "372/372 [==============================] - 1s 4ms/step - loss: 7.2901e-04\n",
      "Epoch 49/100\n",
      "372/372 [==============================] - 1s 4ms/step - loss: 6.2001e-04\n",
      "Epoch 50/100\n",
      "372/372 [==============================] - 1s 4ms/step - loss: 5.7441e-04\n",
      "Epoch 51/100\n",
      "372/372 [==============================] - 1s 4ms/step - loss: 6.5610e-04\n",
      "Epoch 52/100\n",
      "372/372 [==============================] - 2s 4ms/step - loss: 6.8870e-04\n",
      "Epoch 53/100\n",
      "372/372 [==============================] - 2s 4ms/step - loss: 6.6953e-04\n",
      "Epoch 54/100\n",
      "372/372 [==============================] - 2s 4ms/step - loss: 6.3167e-04\n",
      "Epoch 55/100\n",
      "372/372 [==============================] - 2s 4ms/step - loss: 6.6406e-04\n",
      "Epoch 56/100\n",
      "372/372 [==============================] - 1s 4ms/step - loss: 6.6658e-04\n",
      "Epoch 57/100\n",
      "372/372 [==============================] - 1s 4ms/step - loss: 6.7101e-04\n",
      "Epoch 58/100\n",
      "372/372 [==============================] - 1s 4ms/step - loss: 6.0539e-04\n",
      "Epoch 59/100\n",
      "372/372 [==============================] - 1s 4ms/step - loss: 6.4570e-04\n",
      "Epoch 60/100\n",
      "372/372 [==============================] - 2s 5ms/step - loss: 6.3695e-04\n",
      "Epoch 61/100\n",
      "372/372 [==============================] - 2s 5ms/step - loss: 6.7346e-04\n",
      "Epoch 62/100\n",
      "372/372 [==============================] - 2s 5ms/step - loss: 6.1738e-04\n",
      "Epoch 63/100\n",
      "372/372 [==============================] - 2s 6ms/step - loss: 5.9169e-04\n",
      "Epoch 64/100\n",
      "372/372 [==============================] - 2s 6ms/step - loss: 5.7146e-04\n",
      "Epoch 65/100\n",
      "372/372 [==============================] - 2s 5ms/step - loss: 6.2820e-04\n",
      "Epoch 66/100\n",
      "372/372 [==============================] - 2s 6ms/step - loss: 6.5770e-04\n",
      "Epoch 67/100\n",
      "372/372 [==============================] - 2s 6ms/step - loss: 5.6775e-04\n",
      "Epoch 68/100\n",
      "372/372 [==============================] - 2s 5ms/step - loss: 6.0249e-04\n",
      "Epoch 69/100\n",
      "372/372 [==============================] - 2s 5ms/step - loss: 5.9078e-04\n",
      "Epoch 70/100\n",
      "372/372 [==============================] - 2s 5ms/step - loss: 6.5299e-04\n",
      "Epoch 71/100\n",
      "372/372 [==============================] - 2s 5ms/step - loss: 6.7539e-04\n",
      "Epoch 72/100\n",
      "372/372 [==============================] - 2s 4ms/step - loss: 6.4526e-04\n",
      "Epoch 73/100\n",
      "372/372 [==============================] - 2s 5ms/step - loss: 5.5166e-04\n",
      "Epoch 74/100\n",
      "372/372 [==============================] - 2s 5ms/step - loss: 6.2253e-04\n",
      "Epoch 75/100\n",
      "372/372 [==============================] - 2s 5ms/step - loss: 5.9282e-04\n",
      "Epoch 76/100\n",
      "372/372 [==============================] - 2s 5ms/step - loss: 5.4639e-04\n",
      "Epoch 77/100\n",
      "372/372 [==============================] - 2s 4ms/step - loss: 6.4875e-04\n",
      "Epoch 78/100\n",
      "372/372 [==============================] - 2s 4ms/step - loss: 6.7247e-04\n",
      "Epoch 79/100\n",
      "372/372 [==============================] - 2s 5ms/step - loss: 6.1698e-04\n",
      "Epoch 80/100\n",
      "372/372 [==============================] - 2s 5ms/step - loss: 6.1560e-04\n",
      "Epoch 81/100\n",
      "372/372 [==============================] - 2s 4ms/step - loss: 5.8524e-04\n",
      "Epoch 82/100\n",
      "372/372 [==============================] - 2s 5ms/step - loss: 5.6995e-04\n",
      "Epoch 83/100\n",
      "372/372 [==============================] - 2s 5ms/step - loss: 6.2110e-04\n",
      "Epoch 84/100\n",
      "372/372 [==============================] - 2s 5ms/step - loss: 5.7774e-04\n",
      "Epoch 85/100\n",
      "372/372 [==============================] - 2s 4ms/step - loss: 5.8043e-04\n",
      "Epoch 86/100\n",
      "372/372 [==============================] - 2s 5ms/step - loss: 5.8806e-04\n",
      "Epoch 87/100\n",
      "372/372 [==============================] - 2s 4ms/step - loss: 5.9115e-04\n",
      "Epoch 88/100\n",
      "372/372 [==============================] - 2s 4ms/step - loss: 5.9850e-04\n",
      "Epoch 89/100\n",
      "372/372 [==============================] - 2s 5ms/step - loss: 5.9401e-04\n",
      "Epoch 90/100\n",
      "372/372 [==============================] - 2s 5ms/step - loss: 5.8006e-04\n",
      "Epoch 91/100\n",
      "372/372 [==============================] - 2s 5ms/step - loss: 5.7871e-04\n",
      "Epoch 92/100\n",
      "372/372 [==============================] - 2s 4ms/step - loss: 5.6235e-04\n",
      "Epoch 93/100\n",
      "372/372 [==============================] - 2s 5ms/step - loss: 5.3593e-04\n",
      "Epoch 94/100\n",
      "372/372 [==============================] - 2s 4ms/step - loss: 5.7097e-04\n",
      "Epoch 95/100\n",
      "372/372 [==============================] - 2s 5ms/step - loss: 6.1962e-04\n",
      "Epoch 96/100\n",
      "372/372 [==============================] - 2s 4ms/step - loss: 6.0635e-04\n",
      "Epoch 97/100\n",
      "372/372 [==============================] - 2s 5ms/step - loss: 6.2888e-04\n",
      "Epoch 98/100\n",
      "372/372 [==============================] - 2s 5ms/step - loss: 5.8792e-04\n",
      "Epoch 99/100\n",
      "372/372 [==============================] - 2s 5ms/step - loss: 5.5390e-04\n",
      "Epoch 100/100\n",
      "372/372 [==============================] - 2s 6ms/step - loss: 6.4793e-04\n"
     ]
    },
    {
     "data": {
      "text/plain": [
       "<keras.callbacks.History at 0x1d8e0dbcd00>"
      ]
     },
     "execution_count": 189,
     "metadata": {},
     "output_type": "execute_result"
    }
   ],
   "source": [
    "# Train the Model\n",
    "model.fit(x_train, y_train, batch_size= 1, epochs=100)"
   ]
  },
  {
   "attachments": {},
   "cell_type": "markdown",
   "metadata": {},
   "source": [
    "## Create Testing Dataset"
   ]
  },
  {
   "cell_type": "code",
   "execution_count": 190,
   "metadata": {},
   "outputs": [],
   "source": [
    "# Create test data from 1818-60 to end of rows\n",
    "test_data = scaled_data[training_data_len-12: , : ]\n",
    "# create data test x_test and y_test\n",
    "x_test = []\n",
    "y_test = dataset[training_data_len:]\n",
    "\n",
    "for i in range(12, len(test_data)):\n",
    "  x_test.append(test_data[i-12:i, 0])\n",
    "# Reshape the x_test to numpy as tensorflow only accept numpy\n",
    "x_test = np.array(x_test)\n",
    "x_test = np.reshape(x_test, (x_test.shape[0], x_test.shape[1], 1))"
   ]
  },
  {
   "attachments": {},
   "cell_type": "markdown",
   "metadata": {},
   "source": [
    "## Get the predict data"
   ]
  },
  {
   "cell_type": "code",
   "execution_count": 191,
   "metadata": {},
   "outputs": [
    {
     "name": "stdout",
     "output_type": "stream",
     "text": [
      "3/3 [==============================] - 1s 5ms/step\n"
     ]
    }
   ],
   "source": [
    "# predict the x_test\n",
    "prediction = model.predict(x_test)"
   ]
  },
  {
   "cell_type": "code",
   "execution_count": 192,
   "metadata": {},
   "outputs": [],
   "source": [
    "# inverse scale the predict result\n",
    "prediction_unscaled = scaler.inverse_transform(prediction)"
   ]
  },
  {
   "cell_type": "code",
   "execution_count": 193,
   "metadata": {},
   "outputs": [
    {
     "data": {
      "text/plain": [
       "32.69095347582535"
      ]
     },
     "execution_count": 193,
     "metadata": {},
     "output_type": "execute_result"
    }
   ],
   "source": [
    "# get the RMSE Score\n",
    "rmse=np.sqrt(np.mean(((prediction_unscaled- y_test)**2)))\n",
    "rmse"
   ]
  },
  {
   "attachments": {},
   "cell_type": "markdown",
   "metadata": {},
   "source": [
    "## Visualize the Prediction results"
   ]
  },
  {
   "cell_type": "code",
   "execution_count": 194,
   "metadata": {},
   "outputs": [
    {
     "name": "stderr",
     "output_type": "stream",
     "text": [
      "C:\\Users\\aaron\\AppData\\Local\\Temp\\ipykernel_16308\\312296751.py:4: SettingWithCopyWarning: \n",
      "A value is trying to be set on a copy of a slice from a DataFrame.\n",
      "Try using .loc[row_indexer,col_indexer] = value instead\n",
      "\n",
      "See the caveats in the documentation: https://pandas.pydata.org/pandas-docs/stable/user_guide/indexing.html#returning-a-view-versus-a-copy\n",
      "  validation['Predictions'] = prediction_unscaled\n"
     ]
    },
    {
     "data": {
      "image/png": "[encoded data removed]",
      "text/plain": [
       "<Figure size 1152x576 with 1 Axes>"
      ]
     },
     "metadata": {
      "needs_background": "light"
     },
     "output_type": "display_data"
    }
   ],
   "source": [
    "data = df.filter(['Close'])\n",
    "train = data[:training_data_len]\n",
    "validation = data[training_data_len:]\n",
    "validation['Predictions'] = prediction_unscaled\n",
    "plt.figure(figsize=(16,8))\n",
    "plt.title('Prediction Price for SIDO Stock')\n",
    "plt.xlabel('Date')\n",
    "plt.ylabel('Close Price in IDR')\n",
    "plt.plot(train)\n",
    "plt.plot(validation[['Close', 'Predictions']])\n",
    "plt.legend(['Train', 'Test', 'Predictions'], loc='lower right')\n",
    "plt.show()"
   ]
  },
  {
   "attachments": {},
   "cell_type": "markdown",
   "metadata": {},
   "source": [
    "# Predict the Stock Price from Now ON"
   ]
  },
  {
   "cell_type": "code",
   "execution_count": 195,
   "metadata": {},
   "outputs": [
    {
     "name": "stdout",
     "output_type": "stream",
     "text": [
      "1/1 [==============================] - 1s 590ms/step\n",
      "[[820.4284]]\n"
     ]
    }
   ],
   "source": [
    "# get the stock data\n",
    "df\n",
    "# create new dataframe\n",
    "new_df = df.filter(['Close'])\n",
    "# the last 7 month closing price value\n",
    "last_7 = new_df[-7:].values\n",
    "# scale the last 7 month\n",
    "last_7_scaled = scaler.transform(last_7)\n",
    "# empty list\n",
    "x_test = []\n",
    "# append the past 7 month\n",
    "x_test.append(last_7_scaled)\n",
    "# convert to numpy\n",
    "x_test = np.array(x_test)\n",
    "# reshape\n",
    "x_test = np.reshape(x_test, (x_test.shape[0],x_test.shape[1],1))\n",
    "# get the predicted scaled price\n",
    "pred_price = model.predict(x_test)\n",
    "# inverse scale\n",
    "pred_price = scaler.inverse_transform(pred_price)\n",
    "\n",
    "print(pred_price)"
   ]
  }
 ],
 "metadata": {
  "kernelspec": {
   "display_name": "Python 3",
   "language": "python",
   "name": "python3"
  },
  "language_info": {
   "codemirror_mode": {
    "name": "ipython",
    "version": 3
   },
   "file_extension": ".py",
   "mimetype": "text/x-python",
   "name": "python",
   "nbconvert_exporter": "python",
   "pygments_lexer": "ipython3",
   "version": "3.10.5"
  },
  "orig_nbformat": 4,
  "vscode": {
   "interpreter": {
    "hash": "0cc95108adb0eef77222e4285ccd064197a982c043357c28a8f9770fc5b3cfd4"
   }
  }
 },
 "nbformat": 4,
 "nbformat_minor": 2
}
